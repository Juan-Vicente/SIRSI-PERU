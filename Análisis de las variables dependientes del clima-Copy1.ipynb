{
 "cells": [
  {
   "cell_type": "code",
   "execution_count": 2,
   "id": "640acaf6",
   "metadata": {
    "scrolled": true
   },
   "outputs": [],
   "source": [
    "import pandas as pd\n",
    "import matplotlib.pyplot as plt #Para plotear\n",
    "import math #para la raiz cuadrada\n",
    "index=[1,2,3,4,5,6,7,8,9,10,11,12,13,14,15,16,17,18,19,20]\n",
    "Temperature=[26.4265694,  26.50714934, 27.36772626, 26.9667251,  27.46689732, 26.29023037,\n",
    " 25.16459071, 24.33611505, 24.31437102, 24.1178522,  23.274177,   22.40270315,\n",
    " 23.07907892, 21.4678649,  20.84709462, 20.2662481,  19.87245037, 19.50288968,\n",
    " 19.91926455, 19.25238377]\n",
    "gb=[]\n",
    "gb_m=[]\n",
    "gb_h=[]\n",
    "gx_1=[]\n",
    "gx_2=[]\n",
    "gu_v=[]\n",
    "for T in Temperature:\n",
    "        if(T<=13.35 or T>=40.08):\n",
    "            b=0\n",
    "        else:\n",
    "            b=0.00202*T*(T-13.35) * math.sqrt(40.08 - T)   \n",
    "\n",
    "        if(T<=12.286 or T>=32.461):\n",
    "            b_h=0\n",
    "        else:\n",
    "            b_h=0.001044*T*(T-12.286) * math.sqrt(32.461 - T)\n",
    "\n",
    "        if(T>=12.4 and T<=26.1):\n",
    "            b_m=-0.9037+0.0727*T\n",
    "        elif(T>26.1 and T<=32.5):\n",
    "            b_m=1\n",
    "        else:\n",
    "            b_m=0\n",
    "        #Según el ajuste\n",
    "        x_1=0.559\n",
    "        x_2=0.06\n",
    "        #if(b_m!=0 and b!=0):\n",
    "        #    x_1=beta_vh/(b*b_h)\n",
    "        #    x_2=beta_hv/(b*b_m)\n",
    "        #else:\n",
    "        #    x_1=0\n",
    "        #    x_2=0\n",
    "        beta_vh=x_1*b*b_h\n",
    "        beta_hv=x_2*b*b_m\n",
    "        u_v=(8.692/10000)-((1.590/10000)*T)+((1.116/100000)* (T**2)) - ((3.408/10000000)*(T**3)) + ((3.809/1000000000)*(T**4))\n",
    "        #print(\"b:\",b,\", b_h:\",\", b_m:\",b_m,\", beta_vh:\",beta_vh,\", beta_hv:\",beta_hv,\", u_v:\",u_v)\n",
    "        gb.append(b)\n",
    "        gb_h.append(b_h)\n",
    "        gb_m.append(b_m)\n",
    "        gx_1.append(x_1)\n",
    "        gx_2.append(x_2)\n",
    "        gu_v.append(u_v)\n",
    "        data_tuples = list(zip(Temperature,gb,gb_h,gb_m,gx_1,gx_2,gu_v))\n",
    "        Tabla = pd.DataFrame(data_tuples, columns =['Temperatura','$b$','$b_h$','$b_m$','$beta_vh$','$beta_hv$','$u_v$']) \n",
    "#print(len(gb))"
   ]
  },
  {
   "cell_type": "code",
   "execution_count": 3,
   "id": "ccd033f2",
   "metadata": {},
   "outputs": [
    {
     "data": {
      "text/html": [
       "<div>\n",
       "<style scoped>\n",
       "    .dataframe tbody tr th:only-of-type {\n",
       "        vertical-align: middle;\n",
       "    }\n",
       "\n",
       "    .dataframe tbody tr th {\n",
       "        vertical-align: top;\n",
       "    }\n",
       "\n",
       "    .dataframe thead th {\n",
       "        text-align: right;\n",
       "    }\n",
       "</style>\n",
       "<table border=\"1\" class=\"dataframe\">\n",
       "  <thead>\n",
       "    <tr style=\"text-align: right;\">\n",
       "      <th></th>\n",
       "      <th>Temperatura</th>\n",
       "      <th>$b$</th>\n",
       "      <th>$b_h$</th>\n",
       "      <th>$b_m$</th>\n",
       "      <th>$beta_vh$</th>\n",
       "      <th>$beta_hv$</th>\n",
       "      <th>$u_v$</th>\n",
       "    </tr>\n",
       "  </thead>\n",
       "  <tbody>\n",
       "    <tr>\n",
       "      <th>0</th>\n",
       "      <td>26.426569</td>\n",
       "      <td>2.579330</td>\n",
       "      <td>0.958355</td>\n",
       "      <td>1.000000</td>\n",
       "      <td>0.559</td>\n",
       "      <td>0.06</td>\n",
       "      <td>0.000029</td>\n",
       "    </tr>\n",
       "    <tr>\n",
       "      <th>1</th>\n",
       "      <td>26.507149</td>\n",
       "      <td>2.595444</td>\n",
       "      <td>0.960278</td>\n",
       "      <td>1.000000</td>\n",
       "      <td>0.559</td>\n",
       "      <td>0.06</td>\n",
       "      <td>0.000029</td>\n",
       "    </tr>\n",
       "    <tr>\n",
       "      <th>2</th>\n",
       "      <td>27.367726</td>\n",
       "      <td>2.762990</td>\n",
       "      <td>0.972498</td>\n",
       "      <td>1.000000</td>\n",
       "      <td>0.559</td>\n",
       "      <td>0.06</td>\n",
       "      <td>0.000028</td>\n",
       "    </tr>\n",
       "    <tr>\n",
       "      <th>3</th>\n",
       "      <td>26.966725</td>\n",
       "      <td>2.686011</td>\n",
       "      <td>0.968794</td>\n",
       "      <td>1.000000</td>\n",
       "      <td>0.559</td>\n",
       "      <td>0.06</td>\n",
       "      <td>0.000028</td>\n",
       "    </tr>\n",
       "    <tr>\n",
       "      <th>4</th>\n",
       "      <td>27.466897</td>\n",
       "      <td>2.781706</td>\n",
       "      <td>0.972828</td>\n",
       "      <td>1.000000</td>\n",
       "      <td>0.559</td>\n",
       "      <td>0.06</td>\n",
       "      <td>0.000027</td>\n",
       "    </tr>\n",
       "    <tr>\n",
       "      <th>5</th>\n",
       "      <td>26.290230</td>\n",
       "      <td>2.551915</td>\n",
       "      <td>0.954825</td>\n",
       "      <td>1.000000</td>\n",
       "      <td>0.559</td>\n",
       "      <td>0.06</td>\n",
       "      <td>0.000029</td>\n",
       "    </tr>\n",
       "    <tr>\n",
       "      <th>6</th>\n",
       "      <td>25.164591</td>\n",
       "      <td>2.319410</td>\n",
       "      <td>0.913931</td>\n",
       "      <td>0.925766</td>\n",
       "      <td>0.559</td>\n",
       "      <td>0.06</td>\n",
       "      <td>0.000032</td>\n",
       "    </tr>\n",
       "    <tr>\n",
       "      <th>7</th>\n",
       "      <td>24.336115</td>\n",
       "      <td>2.142904</td>\n",
       "      <td>0.872673</td>\n",
       "      <td>0.865536</td>\n",
       "      <td>0.559</td>\n",
       "      <td>0.06</td>\n",
       "      <td>0.000033</td>\n",
       "    </tr>\n",
       "    <tr>\n",
       "      <th>8</th>\n",
       "      <td>24.314371</td>\n",
       "      <td>2.138227</td>\n",
       "      <td>0.871484</td>\n",
       "      <td>0.863955</td>\n",
       "      <td>0.559</td>\n",
       "      <td>0.06</td>\n",
       "      <td>0.000033</td>\n",
       "    </tr>\n",
       "    <tr>\n",
       "      <th>9</th>\n",
       "      <td>24.117852</td>\n",
       "      <td>2.095872</td>\n",
       "      <td>0.860512</td>\n",
       "      <td>0.849668</td>\n",
       "      <td>0.559</td>\n",
       "      <td>0.06</td>\n",
       "      <td>0.000034</td>\n",
       "    </tr>\n",
       "    <tr>\n",
       "      <th>10</th>\n",
       "      <td>23.274177</td>\n",
       "      <td>1.912714</td>\n",
       "      <td>0.809251</td>\n",
       "      <td>0.788333</td>\n",
       "      <td>0.559</td>\n",
       "      <td>0.06</td>\n",
       "      <td>0.000035</td>\n",
       "    </tr>\n",
       "    <tr>\n",
       "      <th>11</th>\n",
       "      <td>22.402703</td>\n",
       "      <td>1.722416</td>\n",
       "      <td>0.750416</td>\n",
       "      <td>0.724977</td>\n",
       "      <td>0.559</td>\n",
       "      <td>0.06</td>\n",
       "      <td>0.000036</td>\n",
       "    </tr>\n",
       "    <tr>\n",
       "      <th>12</th>\n",
       "      <td>23.079079</td>\n",
       "      <td>1.870156</td>\n",
       "      <td>0.796545</td>\n",
       "      <td>0.774149</td>\n",
       "      <td>0.559</td>\n",
       "      <td>0.06</td>\n",
       "      <td>0.000035</td>\n",
       "    </tr>\n",
       "    <tr>\n",
       "      <th>13</th>\n",
       "      <td>21.467865</td>\n",
       "      <td>1.518728</td>\n",
       "      <td>0.682309</td>\n",
       "      <td>0.657014</td>\n",
       "      <td>0.559</td>\n",
       "      <td>0.06</td>\n",
       "      <td>0.000036</td>\n",
       "    </tr>\n",
       "    <tr>\n",
       "      <th>14</th>\n",
       "      <td>20.847095</td>\n",
       "      <td>1.384562</td>\n",
       "      <td>0.634986</td>\n",
       "      <td>0.611884</td>\n",
       "      <td>0.559</td>\n",
       "      <td>0.06</td>\n",
       "      <td>0.000036</td>\n",
       "    </tr>\n",
       "    <tr>\n",
       "      <th>15</th>\n",
       "      <td>20.266248</td>\n",
       "      <td>1.260314</td>\n",
       "      <td>0.589626</td>\n",
       "      <td>0.569656</td>\n",
       "      <td>0.559</td>\n",
       "      <td>0.06</td>\n",
       "      <td>0.000036</td>\n",
       "    </tr>\n",
       "    <tr>\n",
       "      <th>16</th>\n",
       "      <td>19.872450</td>\n",
       "      <td>1.176984</td>\n",
       "      <td>0.558442</td>\n",
       "      <td>0.541027</td>\n",
       "      <td>0.559</td>\n",
       "      <td>0.06</td>\n",
       "      <td>0.000036</td>\n",
       "    </tr>\n",
       "    <tr>\n",
       "      <th>17</th>\n",
       "      <td>19.502890</td>\n",
       "      <td>1.099567</td>\n",
       "      <td>0.528957</td>\n",
       "      <td>0.514160</td>\n",
       "      <td>0.559</td>\n",
       "      <td>0.06</td>\n",
       "      <td>0.000036</td>\n",
       "    </tr>\n",
       "    <tr>\n",
       "      <th>18</th>\n",
       "      <td>19.919265</td>\n",
       "      <td>1.186847</td>\n",
       "      <td>0.562164</td>\n",
       "      <td>0.544431</td>\n",
       "      <td>0.559</td>\n",
       "      <td>0.06</td>\n",
       "      <td>0.000036</td>\n",
       "    </tr>\n",
       "    <tr>\n",
       "      <th>19</th>\n",
       "      <td>19.252384</td>\n",
       "      <td>1.047570</td>\n",
       "      <td>0.508887</td>\n",
       "      <td>0.495948</td>\n",
       "      <td>0.559</td>\n",
       "      <td>0.06</td>\n",
       "      <td>0.000036</td>\n",
       "    </tr>\n",
       "  </tbody>\n",
       "</table>\n",
       "</div>"
      ],
      "text/plain": [
       "    Temperatura       $b$     $b_h$     $b_m$  $beta_vh$  $beta_hv$     $u_v$\n",
       "0     26.426569  2.579330  0.958355  1.000000      0.559       0.06  0.000029\n",
       "1     26.507149  2.595444  0.960278  1.000000      0.559       0.06  0.000029\n",
       "2     27.367726  2.762990  0.972498  1.000000      0.559       0.06  0.000028\n",
       "3     26.966725  2.686011  0.968794  1.000000      0.559       0.06  0.000028\n",
       "4     27.466897  2.781706  0.972828  1.000000      0.559       0.06  0.000027\n",
       "5     26.290230  2.551915  0.954825  1.000000      0.559       0.06  0.000029\n",
       "6     25.164591  2.319410  0.913931  0.925766      0.559       0.06  0.000032\n",
       "7     24.336115  2.142904  0.872673  0.865536      0.559       0.06  0.000033\n",
       "8     24.314371  2.138227  0.871484  0.863955      0.559       0.06  0.000033\n",
       "9     24.117852  2.095872  0.860512  0.849668      0.559       0.06  0.000034\n",
       "10    23.274177  1.912714  0.809251  0.788333      0.559       0.06  0.000035\n",
       "11    22.402703  1.722416  0.750416  0.724977      0.559       0.06  0.000036\n",
       "12    23.079079  1.870156  0.796545  0.774149      0.559       0.06  0.000035\n",
       "13    21.467865  1.518728  0.682309  0.657014      0.559       0.06  0.000036\n",
       "14    20.847095  1.384562  0.634986  0.611884      0.559       0.06  0.000036\n",
       "15    20.266248  1.260314  0.589626  0.569656      0.559       0.06  0.000036\n",
       "16    19.872450  1.176984  0.558442  0.541027      0.559       0.06  0.000036\n",
       "17    19.502890  1.099567  0.528957  0.514160      0.559       0.06  0.000036\n",
       "18    19.919265  1.186847  0.562164  0.544431      0.559       0.06  0.000036\n",
       "19    19.252384  1.047570  0.508887  0.495948      0.559       0.06  0.000036"
      ]
     },
     "execution_count": 3,
     "metadata": {},
     "output_type": "execute_result"
    }
   ],
   "source": [
    "Tabla"
   ]
  },
  {
   "cell_type": "code",
   "execution_count": 4,
   "id": "434961a5",
   "metadata": {},
   "outputs": [
    {
     "data": {
      "image/png": "[encoded data removed]",
      "text/plain": [
       "<Figure size 432x288 with 1 Axes>"
      ]
     },
     "metadata": {
      "needs_background": "light"
     },
     "output_type": "display_data"
    }
   ],
   "source": [
    "fig = plt.figure()\n",
    "ax = fig.add_subplot(111)\n",
    "#ax.plot(t, Iv/N_v, 'orange', alpha=0.5, lw=2, label='Infectados Vector')\n",
    "#ax.plot(t, Sv/N_v, 'cyan', alpha=0.5, lw=2, label='Susceptible Vector ')\n",
    "#ax.plot(t, Sh, 'b', alpha=0.5, lw=2, label='Susceptible Host')\n",
    "ax.plot(Temperature, gb, 'r', alpha=0.5, lw=2, label='$b$')\n",
    "ax.plot(Temperature, gb_h, 'b', alpha=0.5, lw=2, label='$b_h$')\n",
    "ax.plot(Temperature, gb_m, 'orange', alpha=0.5, lw=2, label='$b_m$')\n",
    "ax.plot(Temperature, gx_1, 'g', alpha=0.5, lw=2, label='$x_1$')\n",
    "ax.plot(Temperature, gx_2, 'y', alpha=0.5, lw=2, label='$x_2$')\n",
    "ax.plot(Temperature, gu_v, 'm', alpha=0.5, lw=2, label='$u_v$')\n",
    "#ax.plot(t, Rh, 'g', alpha=0.5, lw=2, label='Recuperados Host ')\n",
    "#ax.plot(t, datos, 'black', alpha=0.5, marker='o', label='Observados COMAS ')\n",
    "ax.set_xlabel('Temperatura')\n",
    "ax.set_ylabel('Variables')\n",
    "#ax.set_ylim(0,2)\n",
    "ax.yaxis.set_tick_params(length=0)\n",
    "ax.xaxis.set_tick_params(length=0)\n",
    "#ax.grid(b=True, which='major', c='w', lw=2, ls='-')\n",
    "legend = ax.legend()\n",
    "legend.get_frame().set_alpha(0.5)\n",
    "#for spine in ('top', 'right', 'bottom', 'left'):\n",
    "#    ax.spines[spine].set_visible(False)\n",
    "plt.show()\n"
   ]
  },
  {
   "cell_type": "code",
   "execution_count": 5,
   "id": "156529ae",
   "metadata": {},
   "outputs": [
    {
     "data": {
      "image/png": "[encoded data removed]",
      "text/plain": [
       "<Figure size 432x288 with 1 Axes>"
      ]
     },
     "metadata": {
      "needs_background": "light"
     },
     "output_type": "display_data"
    }
   ],
   "source": [
    "fig = plt.figure()\n",
    "ax = fig.add_subplot(111)\n",
    "#ax.plot(t, Iv/N_v, 'orange', alpha=0.5, lw=2, label='Infectados Vector')\n",
    "#ax.plot(t, Sv/N_v, 'cyan', alpha=0.5, lw=2, label='Susceptible Vector ')\n",
    "#ax.plot(t, Sh, 'b', alpha=0.5, lw=2, label='Susceptible Host')\n",
    "ax.plot(Temperature, gb, 'r', alpha=0.5, lw=2, label='$b$')\n",
    "ax.plot(Temperature, gb_h, 'b', alpha=0.5, lw=2, label='$b_h$')\n",
    "ax.plot(Temperature, gb_m, 'orange', alpha=0.5, lw=2, label='$b_m$')\n",
    "ax.plot(Temperature, gu_v, 'm', alpha=0.5, lw=2, label='$u_v$')\n",
    "#ax.plot(t, Rh, 'g', alpha=0.5, lw=2, label='Recuperados Host ')\n",
    "#ax.plot(t, datos, 'black', alpha=0.5, marker='o', label='Observados COMAS ')\n",
    "ax.set_xlabel('Temperatura')\n",
    "ax.set_ylabel('Variables')\n",
    "#ax.set_ylim(0,2)\n",
    "ax.yaxis.set_tick_params(length=0)\n",
    "ax.xaxis.set_tick_params(length=0)\n",
    "#ax.grid(b=True, which='major', c='w', lw=2, ls='-')\n",
    "legend = ax.legend()\n",
    "legend.get_frame().set_alpha(0.5)\n",
    "#for spine in ('top', 'right', 'bottom', 'left'):\n",
    "#    ax.spines[spine].set_visible(False)\n",
    "plt.show()"
   ]
  },
  {
   "cell_type": "code",
   "execution_count": 6,
   "id": "2e5402d6",
   "metadata": {
    "scrolled": true
   },
   "outputs": [
    {
     "data": {
      "image/png": "[encoded data removed]",
      "text/plain": [
       "<Figure size 432x288 with 1 Axes>"
      ]
     },
     "metadata": {
      "needs_background": "light"
     },
     "output_type": "display_data"
    }
   ],
   "source": [
    "plt.plot(Temperature, gb, 'r', alpha=0.5, lw=2, label='$b$')\n",
    "plt.xlabel(\"Temperatura\")\n",
    "plt.ylabel(\"$b$\")\n",
    "plt.show()"
   ]
  },
  {
   "cell_type": "code",
   "execution_count": 7,
   "id": "e6ca5946",
   "metadata": {},
   "outputs": [
    {
     "data": {
      "image/png": "[encoded data removed]",
      "text/plain": [
       "<Figure size 432x288 with 1 Axes>"
      ]
     },
     "metadata": {
      "needs_background": "light"
     },
     "output_type": "display_data"
    }
   ],
   "source": [
    "plt.plot(Temperature, gb_h, 'r', alpha=0.5, lw=2, label='$b_h$')\n",
    "plt.xlabel(\"Temperatura\")\n",
    "plt.ylabel(\"$b_h$\")\n",
    "plt.show()"
   ]
  },
  {
   "cell_type": "code",
   "execution_count": 8,
   "id": "70706de8",
   "metadata": {},
   "outputs": [
    {
     "data": {
      "image/png": "[encoded data removed]",
      "text/plain": [
       "<Figure size 432x288 with 1 Axes>"
      ]
     },
     "metadata": {
      "needs_background": "light"
     },
     "output_type": "display_data"
    }
   ],
   "source": [
    "plt.plot(Temperature, gb_m, 'r', alpha=0.5, lw=2, label='$b_m$')\n",
    "plt.xlabel(\"Temperatura\")\n",
    "plt.ylabel(\"$b_m$\")\n",
    "plt.show()"
   ]
  },
  {
   "cell_type": "code",
   "execution_count": 9,
   "id": "565297f1",
   "metadata": {},
   "outputs": [
    {
     "data": {
      "image/png": "[encoded data removed]",
      "text/plain": [
       "<Figure size 432x288 with 1 Axes>"
      ]
     },
     "metadata": {
      "needs_background": "light"
     },
     "output_type": "display_data"
    }
   ],
   "source": [
    "plt.plot(Temperature, gx_1, 'r', alpha=0.5, lw=2, label='$x_1$')\n",
    "plt.xlabel(\"Temperatura\")\n",
    "plt.ylabel(\"$x_1$\")\n",
    "plt.show()"
   ]
  },
  {
   "cell_type": "code",
   "execution_count": 10,
   "id": "68b3def0",
   "metadata": {},
   "outputs": [
    {
     "data": {
      "image/png": "[encoded data removed]",
      "text/plain": [
       "<Figure size 432x288 with 1 Axes>"
      ]
     },
     "metadata": {
      "needs_background": "light"
     },
     "output_type": "display_data"
    }
   ],
   "source": [
    "plt.plot(Temperature, gx_1, 'r', alpha=0.5, lw=2, label='$x_2$')\n",
    "plt.xlabel(\"Temperatura\")\n",
    "plt.ylabel(\"$x_2$\")\n",
    "plt.show()"
   ]
  },
  {
   "cell_type": "code",
   "execution_count": 11,
   "id": "bc19c68b",
   "metadata": {},
   "outputs": [
    {
     "data": {
      "image/png": "[encoded data removed]",
      "text/plain": [
       "<Figure size 432x288 with 1 Axes>"
      ]
     },
     "metadata": {
      "needs_background": "light"
     },
     "output_type": "display_data"
    }
   ],
   "source": [
    "plt.plot(Temperature, gu_v, 'r', alpha=0.5, lw=2, label='$u_v$')\n",
    "plt.xlabel(\"Temperatura\")\n",
    "plt.ylabel(\"$u_v$\")\n",
    "plt.show()"
   ]
  },
  {
   "cell_type": "code",
   "execution_count": null,
   "id": "e5c2ac8f",
   "metadata": {},
   "outputs": [],
   "source": []
  },
  {
   "cell_type": "code",
   "execution_count": null,
   "id": "5ce825a9",
   "metadata": {},
   "outputs": [],
   "source": []
  }
 ],
 "metadata": {
  "kernelspec": {
   "display_name": "Python 3",
   "language": "python",
   "name": "python3"
  },
  "language_info": {
   "codemirror_mode": {
    "name": "ipython",
    "version": 3
   },
   "file_extension": ".py",
   "mimetype": "text/x-python",
   "name": "python",
   "nbconvert_exporter": "python",
   "pygments_lexer": "ipython3",
   "version": "3.8.8"
  }
 },
 "nbformat": 4,
 "nbformat_minor": 5
}
