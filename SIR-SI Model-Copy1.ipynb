{
 "cells": [
  {
   "cell_type": "markdown",
   "metadata": {},
   "source": [
    "# Modelamiento Dengue SIR SI"
   ]
  },
  {
   "cell_type": "code",
   "execution_count": 53,
   "metadata": {},
   "outputs": [],
   "source": [
    "import numpy as np #para manejar matrices\n",
    "from scipy.integrate import odeint #para resolver ecuaciones diferenciales ordinarias\n",
    "import matplotlib.pyplot as plt #Para plotear\n",
    "import math #para la raiz cuadrada"
   ]
  },
  {
   "cell_type": "markdown",
   "metadata": {},
   "source": [
    "## Modelo SIR - SI"
   ]
  },
  {
   "cell_type": "markdown",
   "metadata": {},
   "source": [
    "### SIR (Host - Humanos)"
   ]
  },
  {
   "cell_type": "markdown",
   "metadata": {},
   "source": [
    "$S_h = - \\dfrac{ \\beta_{vh} S_v I_v}{N_h} $"
   ]
  },
  {
   "cell_type": "markdown",
   "metadata": {},
   "source": [
    "$I_h = \\dfrac{ \\beta_{vh} S_v I_v}{N_h} - \\gamma I_h$"
   ]
  },
  {
   "cell_type": "markdown",
   "metadata": {},
   "source": [
    "$ R_h = \\gamma I_h$"
   ]
  },
  {
   "cell_type": "markdown",
   "metadata": {},
   "source": [
    "### SI (Vector - Mosquitos)"
   ]
  },
  {
   "cell_type": "markdown",
   "metadata": {},
   "source": [
    "$S_v = - \\dfrac{ \\beta_{hv} S_v I_h}{N_h} - \\mu_v S_v$"
   ]
  },
  {
   "cell_type": "markdown",
   "metadata": {},
   "source": [
    "$I_v = \\dfrac{ \\beta_{hv} S_v I_h}{N_h} - \\mu_v I_v$,"
   ]
  },
  {
   "cell_type": "markdown",
   "metadata": {},
   "source": [
    "donde $S$ corresponde a la población susceptible,"
   ]
  },
  {
   "cell_type": "markdown",
   "metadata": {},
   "source": [
    "$I$ corresponde a la población infectada/infecciosa,"
   ]
  },
  {
   "cell_type": "markdown",
   "metadata": {},
   "source": [
    "$R$ corresponde a la población recuperada,"
   ]
  },
  {
   "cell_type": "markdown",
   "metadata": {},
   "source": [
    "$N$ es el número total de la población"
   ]
  },
  {
   "cell_type": "markdown",
   "metadata": {},
   "source": [
    "y los subíndices $v$ y $h$ corresponden a la población de vectores y hosts respectivamente."
   ]
  },
  {
   "cell_type": "markdown",
   "metadata": {},
   "source": [
    "En cuanto a los parámetros, estos son:"
   ]
  },
  {
   "cell_type": "markdown",
   "metadata": {},
   "source": [
    "$\\beta_{hv}$: tasa de trasmisibilidad host a vector."
   ]
  },
  {
   "cell_type": "markdown",
   "metadata": {},
   "source": [
    "$\\beta_{vh}$: tasa de trasmisibilidad vector a host."
   ]
  },
  {
   "cell_type": "markdown",
   "metadata": {},
   "source": [
    "$u_v$: tasa de mortalidad de los vectores."
   ]
  },
  {
   "cell_type": "markdown",
   "metadata": {},
   "source": [
    "$\\gamma$: tasa de recuperación."
   ]
  },
  {
   "cell_type": "markdown",
   "metadata": {},
   "source": [
    "Los parámetros $\\beta$ están definidos como:"
   ]
  },
  {
   "cell_type": "markdown",
   "metadata": {},
   "source": [
    "$\\beta_{hv} = x_1 b b_h$ "
   ]
  },
  {
   "cell_type": "markdown",
   "metadata": {},
   "source": [
    "y"
   ]
  },
  {
   "cell_type": "markdown",
   "metadata": {},
   "source": [
    "$\\beta_{hv} = x_2 b b_m$,"
   ]
  },
  {
   "cell_type": "markdown",
   "metadata": {},
   "source": [
    "donde $x_1$ y $x_2$ son la probabilidad de transmisión vector-a-host y host-a-vector respectivamente,"
   ]
  },
  {
   "cell_type": "markdown",
   "metadata": {},
   "source": [
    "$b$ es la tasa de picaduras y, $b_h$ y $b_m$ son la probabilidad de transimisión del virus por picadurad vector-a-host y host-a-vector respectivamente."
   ]
  },
  {
   "cell_type": "code",
   "execution_count": 54,
   "metadata": {},
   "outputs": [],
   "source": [
    "T = [-2,0,2,2,7,10,11,17,18,20,22,20,21,23,25,26,27,25,27,27,28,29,30,31,30,32,33,30,32,33,31,30,29,25,26,23,24,25,26,24,23,22,20,19,18,15,17,20,22,18,15,14,12]"
   ]
  },
  {
   "cell_type": "code",
   "execution_count": 55,
   "metadata": {},
   "outputs": [],
   "source": [
    "def temperatura(t):\n",
    "    t=t-1\n",
    "    temp=T[int(t)]\n",
    "    return temp"
   ]
  },
  {
   "cell_type": "markdown",
   "metadata": {},
   "source": [
    "Datos de la población de mosquitos (Vector)"
   ]
  },
  {
   "cell_type": "code",
   "execution_count": 79,
   "metadata": {},
   "outputs": [],
   "source": [
    "N_v = 2000\n",
    "I0_v = 1\n",
    "S0_v = N_v - I0_v "
   ]
  },
  {
   "cell_type": "markdown",
   "metadata": {},
   "source": [
    "Datos de la población de Humanos (Host)"
   ]
  },
  {
   "cell_type": "code",
   "execution_count": 80,
   "metadata": {},
   "outputs": [],
   "source": [
    "N_h = 1000\n",
    "I0_h = 7\n",
    "R0_h = 0\n",
    "S0_h = N_h - I0_h"
   ]
  },
  {
   "cell_type": "markdown",
   "metadata": {},
   "source": [
    "Pamámetros de la ecuación"
   ]
  },
  {
   "cell_type": "code",
   "execution_count": 85,
   "metadata": {
    "scrolled": true
   },
   "outputs": [
    {
     "data": {
      "image/png": "[encoded data removed]",
      "text/plain": [
       "<Figure size 432x288 with 1 Axes>"
      ]
     },
     "metadata": {},
     "output_type": "display_data"
    }
   ],
   "source": [
    "# A grid of time points (in days)\n",
    "t = np.linspace(0, 53, 53)\n",
    "\n",
    "# The SIR model differential equations.\n",
    "def deriv(y, t, N_h, beta_hv, beta_vh,u_v, gammaa):\n",
    "    Sv, Iv, Sh, Ih, Rh = y\n",
    "    #T=temperatura(t)\n",
    "    T=33\n",
    "    x_1=0.3841\n",
    "    x_2=1\n",
    "    \n",
    "    if(T<=13.35 or T>=40.08):\n",
    "        b=0\n",
    "    else:\n",
    "        b=0.00202*T*(T-13.35) * math.sqrt(40.08 - T)   \n",
    "    \n",
    "    if(T<=12.286 or T>=32.461):\n",
    "        b_h=0\n",
    "    else:\n",
    "        b_h=0.001044*T*(T-12.286) * math.sqrt(32.461 - T)\n",
    "        \n",
    "    if(T>=12.4 and T<=26.1):\n",
    "        b_m=-0.9037+0.0727*T\n",
    "    elif(T>26.1 and T<=32.5):\n",
    "        b_m=1\n",
    "    else:\n",
    "        b_m=0\n",
    "    \n",
    "    \n",
    "    beta_hv=x_2*b*b_m\n",
    "    beta_vh=x_1*b*b_h\n",
    "    u_v=(8.692/10000)-((1.590/10000)*T)+((1.116/100000)* (T**2)) - ((3.408/10000000)*(T**3)) + ((3.809/1000000000)*(T**4))\n",
    "    \n",
    "    \n",
    "    gamma= 1./7\n",
    "    dSvdt = -beta_hv * Sv * Ih/N_h - (u_v*Sv)\n",
    "    dIvdt = beta_hv * Sv * Ih/N_h - (u_v*Iv)\n",
    "    dShdt = -beta_vh * Sv * Iv/N_h\n",
    "    dIhdt = beta_vh * Sv * Iv/N_h -(gamma * Ih)\n",
    "    dRhdt = gamma * Ih\n",
    "    return dSvdt, dIvdt,dShdt, dIhdt, dRhdt\n",
    "\n",
    "\n",
    "\n",
    "# Initial conditions vector\n",
    "y0 = S0_v, I0_v,S0_h, I0_h, R0_h\n",
    "# Integrate the SIR equations over the time grid, t.\n",
    "#ret = odeint(deriv, y0, t, args=(N_h, beta_hv, beta_vh,u_v, gamma))\n",
    "ret = odeint(derivart, y0, t, args=(N_h, beta_hv, beta_vh,u_v, gamma))\n",
    "Sv, Iv, Sh, Ih, Rh = ret.T\n",
    "\n",
    "# Plot the data on three separate curves for S(t), I(t) and R(t)\n",
    "fig = plt.figure(facecolor='w')\n",
    "ax = fig.add_subplot(111, facecolor='#dddddd', axisbelow=True)\n",
    "ax.plot(t, Iv/N_v, 'orange', alpha=0.5, lw=2, label='Infectados Vector')\n",
    "ax.plot(t, Sv/N_v, 'cyan', alpha=0.5, lw=2, label='Susceptible Vector ')\n",
    "ax.plot(t, Sh/N_h, 'b', alpha=0.5, lw=2, label='Susceptible Host')\n",
    "ax.plot(t, Ih/N_h, 'r', alpha=0.5, lw=2, label='Infectados Host')\n",
    "ax.plot(t, Rh/N_h, 'g', alpha=0.5, lw=2, label='Recuperados Host ')\n",
    "ax.set_xlabel('Tiempo /dias')\n",
    "ax.set_ylabel('Incidencia')\n",
    "#ax.set_ylim(0,2)\n",
    "ax.yaxis.set_tick_params(length=0)\n",
    "ax.xaxis.set_tick_params(length=0)\n",
    "ax.grid(b=True, which='major', c='w', lw=2, ls='-')\n",
    "legend = ax.legend()\n",
    "legend.get_frame().set_alpha(0.5)\n",
    "for spine in ('top', 'right', 'bottom', 'left'):\n",
    "    ax.spines[spine].set_visible(False)\n",
    "plt.show()"
   ]
  },
  {
   "cell_type": "code",
   "execution_count": null,
   "metadata": {},
   "outputs": [],
   "source": []
  },
  {
   "cell_type": "code",
   "execution_count": null,
   "metadata": {},
   "outputs": [],
   "source": []
  },
  {
   "cell_type": "code",
   "execution_count": null,
   "metadata": {},
   "outputs": [],
   "source": []
  },
  {
   "cell_type": "code",
   "execution_count": null,
   "metadata": {},
   "outputs": [],
   "source": []
  },
  {
   "cell_type": "code",
   "execution_count": null,
   "metadata": {},
   "outputs": [],
   "source": []
  },
  {
   "cell_type": "code",
   "execution_count": 86,
   "metadata": {},
   "outputs": [],
   "source": [
    "def derivart(y, t, N, beta, gamma):\n",
    "    S, I ,R = y\n",
    "    dSdt = -beta * S * I / N\n",
    "    dIdt = beta * S * I / N - gamma * I\n",
    "    dRdt = gamma * I\n",
    "    return dSdt, dIdt, dRdt"
   ]
  },
  {
   "cell_type": "code",
   "execution_count": null,
   "metadata": {},
   "outputs": [],
   "source": []
  }
 ],
 "metadata": {
  "kernelspec": {
   "display_name": "Python 3",
   "language": "python",
   "name": "python3"
  },
  "language_info": {
   "codemirror_mode": {
    "name": "ipython",
    "version": 3
   },
   "file_extension": ".py",
   "mimetype": "text/x-python",
   "name": "python",
   "nbconvert_exporter": "python",
   "pygments_lexer": "ipython3",
   "version": "3.8.8"
  }
 },
 "nbformat": 4,
 "nbformat_minor": 4
}
